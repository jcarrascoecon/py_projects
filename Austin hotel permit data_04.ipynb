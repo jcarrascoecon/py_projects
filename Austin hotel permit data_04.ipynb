{
 "cells": [
  {
   "cell_type": "markdown",
   "metadata": {},
   "source": [
    "# Created September 14, 2020\n",
    "\n",
    "## Author of this version: Jacob Carrasco (Update for new versions)\n",
    "\n",
    "## *Before making updates please create a new version number and file the old version in the Google Drive archive (\"Austin hotel permit data_XX\")\n",
    "\n",
    "This short notebook is intended to provide some motivation for the entry-exit patterns seen in the hotel industry. Other forms of real estate may also be interesting, but initial exploration is going to be restricted to lodging.\n",
    "\n",
    "## --- Initial questions that need to be tested include ---\n",
    "\n",
    "* 1) Who are the key market players (developers)? Who seems to be developing the most projects? Do some developers seem to file for permits early in construction boom cycles? Are others filing for permits later in the cycles?\n",
    "\n",
    "* 2) What firms are some of the initial entrants?\n",
    "\n",
    "* 3) Do firm entry decisions seem to increase the probability of future entry? Does entry seem to be correlated with past entry?\n",
    "\n",
    "\n",
    "## --- Next steps, in order of priority ---\n",
    "* A) Finalize cleaning and identification of hotels from universe of all construction data\n",
    "    * While doing this first step, it is important to keep a list of outstanding questions about the data that can be discussed with someone in the Austin government \n",
    "* B) Test initial questions graphically first and by exploring specific projects (limiting this to 1-2 hours)\n",
    "* C) Approach questions more formally with regression design, this may require thinking about further controls for hotel entry. An aggregate measure of interest rates has already been included. Other controls might include:\n",
    "    * Land, labor, materials or capital construction costs (not sure how much cross time variation there is here for just one city)\n",
    "    * Macroeconomic measures of market trends such as unemployment, local wage growth, GDP growth (Dallas Fed publishes some regional data for Texas)\n",
    "    * Would want to also include seasonality or other time dummies but these don't need to be collected. May want to also consider \"micro-geography\" dummies at the zip code or neighborhood level\n",
    "    \n",
    "* D) It is unlikely that time-variation alone is sufficient for this study; once Austin has been explored, need to think about expanding the sample size to include more cities\n",
    "\n",
    "## --- Current sources ---\n",
    "   * Permit data: https://data.austintexas.gov/Building-and-Development/Issued-Construction-Permits/3syk-w9eu\n",
    "   * Interest rates: https://fred.stlouisfed.org/series/MPRIME\n",
    "   * Dallas Fed Economic Data (Not yet collected): https://www.dallasfed.org/research/econdata"
   ]
  },
  {
   "cell_type": "markdown",
   "metadata": {},
   "source": [
    "# 0. Preamble (load library and data)"
   ]
  },
  {
   "cell_type": "code",
   "execution_count": 1,
   "metadata": {},
   "outputs": [],
   "source": [
    "import numpy as np\n",
    "import pandas as pd\n",
    "import matplotlib.pyplot as plt\n",
    "\n",
    "# Change format of aggregate statistic reports\n",
    "pd.set_option('display.float_format', lambda x: '%.5f' % x)"
   ]
  },
  {
   "cell_type": "code",
   "execution_count": 2,
   "metadata": {},
   "outputs": [
    {
     "name": "stdout",
     "output_type": "stream",
     "text": [
      "(2000985, 68)\n"
     ]
    },
    {
     "data": {
      "text/html": [
       "<div>\n",
       "<style scoped>\n",
       "    .dataframe tbody tr th:only-of-type {\n",
       "        vertical-align: middle;\n",
       "    }\n",
       "\n",
       "    .dataframe tbody tr th {\n",
       "        vertical-align: top;\n",
       "    }\n",
       "\n",
       "    .dataframe thead th {\n",
       "        text-align: right;\n",
       "    }\n",
       "</style>\n",
       "<table border=\"1\" class=\"dataframe\">\n",
       "  <thead>\n",
       "    <tr style=\"text-align: right;\">\n",
       "      <th></th>\n",
       "      <th>Permit Type</th>\n",
       "      <th>Permit Type Desc</th>\n",
       "      <th>Permit Num</th>\n",
       "      <th>Permit Class Mapped</th>\n",
       "      <th>Permit Class</th>\n",
       "      <th>Work Class</th>\n",
       "      <th>Condominium</th>\n",
       "      <th>Project Name</th>\n",
       "      <th>Description</th>\n",
       "      <th>TCAD ID</th>\n",
       "      <th>...</th>\n",
       "      <th>Contractor Zip</th>\n",
       "      <th>Applicant Full Name</th>\n",
       "      <th>Applicant Organization</th>\n",
       "      <th>Applicant Phone</th>\n",
       "      <th>Applicant Address 1</th>\n",
       "      <th>Applicant Address 2</th>\n",
       "      <th>Applicant City</th>\n",
       "      <th>Applicant Zip</th>\n",
       "      <th>Certificate Of Occupancy</th>\n",
       "      <th>Total Lot SQFT</th>\n",
       "    </tr>\n",
       "  </thead>\n",
       "  <tbody>\n",
       "    <tr>\n",
       "      <th>0</th>\n",
       "      <td>DS</td>\n",
       "      <td>Driveway / Sidewalks</td>\n",
       "      <td>2003-048196 DS</td>\n",
       "      <td>Commercial</td>\n",
       "      <td>NaN</td>\n",
       "      <td>NaN</td>\n",
       "      <td>NaN</td>\n",
       "      <td>SUEP Permit #031204249</td>\n",
       "      <td>CONSTRUCTING NEW APPROACH 433Z</td>\n",
       "      <td>NaN</td>\n",
       "      <td>...</td>\n",
       "      <td>NaN</td>\n",
       "      <td>NaN</td>\n",
       "      <td>NaN</td>\n",
       "      <td>NaN</td>\n",
       "      <td>NaN</td>\n",
       "      <td>NaN</td>\n",
       "      <td>NaN</td>\n",
       "      <td>NaN</td>\n",
       "      <td>NaN</td>\n",
       "      <td>NaN</td>\n",
       "    </tr>\n",
       "    <tr>\n",
       "      <th>1</th>\n",
       "      <td>MP</td>\n",
       "      <td>Mechanical Permit</td>\n",
       "      <td>1982-018290 MP</td>\n",
       "      <td>Commercial</td>\n",
       "      <td>NaN</td>\n",
       "      <td>New</td>\n",
       "      <td>No</td>\n",
       "      <td>12132 Burnet Road                   A  00000</td>\n",
       "      <td>H T</td>\n",
       "      <td>NaN</td>\n",
       "      <td>...</td>\n",
       "      <td>NaN</td>\n",
       "      <td>NaN</td>\n",
       "      <td>NaN</td>\n",
       "      <td>NaN</td>\n",
       "      <td>NaN</td>\n",
       "      <td>NaN</td>\n",
       "      <td>NaN</td>\n",
       "      <td>NaN</td>\n",
       "      <td>No</td>\n",
       "      <td>NaN</td>\n",
       "    </tr>\n",
       "    <tr>\n",
       "      <th>2</th>\n",
       "      <td>MP</td>\n",
       "      <td>Mechanical Permit</td>\n",
       "      <td>1980-007190 MP</td>\n",
       "      <td>Commercial</td>\n",
       "      <td>Commercial</td>\n",
       "      <td>Remodel</td>\n",
       "      <td>No</td>\n",
       "      <td>900 12 Street West                A  00000</td>\n",
       "      <td>Sign</td>\n",
       "      <td>NaN</td>\n",
       "      <td>...</td>\n",
       "      <td>NaN</td>\n",
       "      <td>NaN</td>\n",
       "      <td>NaN</td>\n",
       "      <td>NaN</td>\n",
       "      <td>NaN</td>\n",
       "      <td>NaN</td>\n",
       "      <td>NaN</td>\n",
       "      <td>NaN</td>\n",
       "      <td>No</td>\n",
       "      <td>NaN</td>\n",
       "    </tr>\n",
       "    <tr>\n",
       "      <th>3</th>\n",
       "      <td>PP</td>\n",
       "      <td>Plumbing Permit</td>\n",
       "      <td>1982-019431 PP</td>\n",
       "      <td>Commercial</td>\n",
       "      <td>NaN</td>\n",
       "      <td>NaN</td>\n",
       "      <td>No</td>\n",
       "      <td>11601 Quarter Horse Trail           C  00000</td>\n",
       "      <td>Residence</td>\n",
       "      <td>NaN</td>\n",
       "      <td>...</td>\n",
       "      <td>NaN</td>\n",
       "      <td>NaN</td>\n",
       "      <td>NaN</td>\n",
       "      <td>NaN</td>\n",
       "      <td>NaN</td>\n",
       "      <td>NaN</td>\n",
       "      <td>NaN</td>\n",
       "      <td>NaN</td>\n",
       "      <td>No</td>\n",
       "      <td>NaN</td>\n",
       "    </tr>\n",
       "    <tr>\n",
       "      <th>4</th>\n",
       "      <td>EP</td>\n",
       "      <td>Electrical Permit</td>\n",
       "      <td>1984-020758 EP</td>\n",
       "      <td>Residential</td>\n",
       "      <td>Residential</td>\n",
       "      <td>Remodel</td>\n",
       "      <td>No</td>\n",
       "      <td>14580 Great Eagle Trail             L  00000</td>\n",
       "      <td>Res</td>\n",
       "      <td>NaN</td>\n",
       "      <td>...</td>\n",
       "      <td>NaN</td>\n",
       "      <td>NaN</td>\n",
       "      <td>NaN</td>\n",
       "      <td>NaN</td>\n",
       "      <td>NaN</td>\n",
       "      <td>NaN</td>\n",
       "      <td>NaN</td>\n",
       "      <td>NaN</td>\n",
       "      <td>No</td>\n",
       "      <td>NaN</td>\n",
       "    </tr>\n",
       "    <tr>\n",
       "      <th>5</th>\n",
       "      <td>EP</td>\n",
       "      <td>Electrical Permit</td>\n",
       "      <td>1986-012617 EP</td>\n",
       "      <td>Commercial</td>\n",
       "      <td>Commercial</td>\n",
       "      <td>Remodel</td>\n",
       "      <td>No</td>\n",
       "      <td>1809 Brandt Road                   A .00000</td>\n",
       "      <td>HT Loop Oh</td>\n",
       "      <td>NaN</td>\n",
       "      <td>...</td>\n",
       "      <td>NaN</td>\n",
       "      <td>NaN</td>\n",
       "      <td>NaN</td>\n",
       "      <td>NaN</td>\n",
       "      <td>NaN</td>\n",
       "      <td>NaN</td>\n",
       "      <td>NaN</td>\n",
       "      <td>NaN</td>\n",
       "      <td>No</td>\n",
       "      <td>NaN</td>\n",
       "    </tr>\n",
       "    <tr>\n",
       "      <th>6</th>\n",
       "      <td>EP</td>\n",
       "      <td>Electrical Permit</td>\n",
       "      <td>1982-016692 EP</td>\n",
       "      <td>Commercial</td>\n",
       "      <td>NaN</td>\n",
       "      <td>New</td>\n",
       "      <td>No</td>\n",
       "      <td>7122 Mo-Pac Circle                 A  00000</td>\n",
       "      <td>Comm</td>\n",
       "      <td>NaN</td>\n",
       "      <td>...</td>\n",
       "      <td>NaN</td>\n",
       "      <td>NaN</td>\n",
       "      <td>NaN</td>\n",
       "      <td>NaN</td>\n",
       "      <td>NaN</td>\n",
       "      <td>NaN</td>\n",
       "      <td>NaN</td>\n",
       "      <td>NaN</td>\n",
       "      <td>No</td>\n",
       "      <td>NaN</td>\n",
       "    </tr>\n",
       "    <tr>\n",
       "      <th>7</th>\n",
       "      <td>BP</td>\n",
       "      <td>Building Permit</td>\n",
       "      <td>1981-006839 BP</td>\n",
       "      <td>Commercial</td>\n",
       "      <td>NaN</td>\n",
       "      <td>NaN</td>\n",
       "      <td>No</td>\n",
       "      <td>128 Crestview Drive               L  00000</td>\n",
       "      <td>New Residence</td>\n",
       "      <td>NaN</td>\n",
       "      <td>...</td>\n",
       "      <td>NaN</td>\n",
       "      <td>NaN</td>\n",
       "      <td>NaN</td>\n",
       "      <td>NaN</td>\n",
       "      <td>NaN</td>\n",
       "      <td>NaN</td>\n",
       "      <td>NaN</td>\n",
       "      <td>NaN</td>\n",
       "      <td>No</td>\n",
       "      <td>NaN</td>\n",
       "    </tr>\n",
       "    <tr>\n",
       "      <th>8</th>\n",
       "      <td>BP</td>\n",
       "      <td>Building Permit</td>\n",
       "      <td>2002-001412 BP</td>\n",
       "      <td>Commercial</td>\n",
       "      <td>Commercial</td>\n",
       "      <td>Remodel</td>\n",
       "      <td>No</td>\n",
       "      <td>15243 Calaveras Dr</td>\n",
       "      <td>Install Plbg  Equipment Only</td>\n",
       "      <td>NaN</td>\n",
       "      <td>...</td>\n",
       "      <td>NaN</td>\n",
       "      <td>NaN</td>\n",
       "      <td>NaN</td>\n",
       "      <td>NaN</td>\n",
       "      <td>NaN</td>\n",
       "      <td>NaN</td>\n",
       "      <td>NaN</td>\n",
       "      <td>NaN</td>\n",
       "      <td>No</td>\n",
       "      <td>NaN</td>\n",
       "    </tr>\n",
       "    <tr>\n",
       "      <th>9</th>\n",
       "      <td>DS</td>\n",
       "      <td>Driveway / Sidewalks</td>\n",
       "      <td>2007-104828 DS</td>\n",
       "      <td>Residential</td>\n",
       "      <td>Res. Driveway &amp; Sidewalk</td>\n",
       "      <td>NaN</td>\n",
       "      <td>NaN</td>\n",
       "      <td>NaN</td>\n",
       "      <td>XXXXX</td>\n",
       "      <td>NaN</td>\n",
       "      <td>...</td>\n",
       "      <td>NaN</td>\n",
       "      <td>NaN</td>\n",
       "      <td>NaN</td>\n",
       "      <td>NaN</td>\n",
       "      <td>NaN</td>\n",
       "      <td>NaN</td>\n",
       "      <td>NaN</td>\n",
       "      <td>NaN</td>\n",
       "      <td>NaN</td>\n",
       "      <td>NaN</td>\n",
       "    </tr>\n",
       "  </tbody>\n",
       "</table>\n",
       "<p>10 rows × 68 columns</p>\n",
       "</div>"
      ],
      "text/plain": [
       "  Permit Type      Permit Type Desc      Permit Num Permit Class Mapped  \\\n",
       "0          DS  Driveway / Sidewalks  2003-048196 DS          Commercial   \n",
       "1          MP     Mechanical Permit  1982-018290 MP          Commercial   \n",
       "2          MP     Mechanical Permit  1980-007190 MP          Commercial   \n",
       "3          PP       Plumbing Permit  1982-019431 PP          Commercial   \n",
       "4          EP     Electrical Permit  1984-020758 EP         Residential   \n",
       "5          EP     Electrical Permit  1986-012617 EP          Commercial   \n",
       "6          EP     Electrical Permit  1982-016692 EP          Commercial   \n",
       "7          BP       Building Permit  1981-006839 BP          Commercial   \n",
       "8          BP       Building Permit  2002-001412 BP          Commercial   \n",
       "9          DS  Driveway / Sidewalks  2007-104828 DS         Residential   \n",
       "\n",
       "               Permit Class Work Class Condominium  \\\n",
       "0                       NaN        NaN         NaN   \n",
       "1                       NaN        New          No   \n",
       "2                Commercial    Remodel          No   \n",
       "3                       NaN        NaN          No   \n",
       "4               Residential    Remodel          No   \n",
       "5                Commercial    Remodel          No   \n",
       "6                       NaN        New          No   \n",
       "7                       NaN        NaN          No   \n",
       "8                Commercial    Remodel          No   \n",
       "9  Res. Driveway & Sidewalk        NaN         NaN   \n",
       "\n",
       "                                   Project Name  \\\n",
       "0                        SUEP Permit #031204249   \n",
       "1  12132 Burnet Road                   A  00000   \n",
       "2    900 12 Street West                A  00000   \n",
       "3  11601 Quarter Horse Trail           C  00000   \n",
       "4  14580 Great Eagle Trail             L  00000   \n",
       "5   1809 Brandt Road                   A .00000   \n",
       "6   7122 Mo-Pac Circle                 A  00000   \n",
       "7    128 Crestview Drive               L  00000   \n",
       "8                            15243 Calaveras Dr   \n",
       "9                                           NaN   \n",
       "\n",
       "                      Description TCAD ID  ... Contractor Zip  \\\n",
       "0  CONSTRUCTING NEW APPROACH 433Z     NaN  ...            NaN   \n",
       "1                             H T     NaN  ...            NaN   \n",
       "2                            Sign     NaN  ...            NaN   \n",
       "3                       Residence     NaN  ...            NaN   \n",
       "4                             Res     NaN  ...            NaN   \n",
       "5                      HT Loop Oh     NaN  ...            NaN   \n",
       "6                            Comm     NaN  ...            NaN   \n",
       "7                   New Residence     NaN  ...            NaN   \n",
       "8    Install Plbg  Equipment Only     NaN  ...            NaN   \n",
       "9                           XXXXX     NaN  ...            NaN   \n",
       "\n",
       "  Applicant Full Name Applicant Organization Applicant Phone  \\\n",
       "0                 NaN                    NaN             NaN   \n",
       "1                 NaN                    NaN             NaN   \n",
       "2                 NaN                    NaN             NaN   \n",
       "3                 NaN                    NaN             NaN   \n",
       "4                 NaN                    NaN             NaN   \n",
       "5                 NaN                    NaN             NaN   \n",
       "6                 NaN                    NaN             NaN   \n",
       "7                 NaN                    NaN             NaN   \n",
       "8                 NaN                    NaN             NaN   \n",
       "9                 NaN                    NaN             NaN   \n",
       "\n",
       "   Applicant Address 1  Applicant Address 2 Applicant City Applicant Zip  \\\n",
       "0                  NaN                  NaN            NaN           NaN   \n",
       "1                  NaN                  NaN            NaN           NaN   \n",
       "2                  NaN                  NaN            NaN           NaN   \n",
       "3                  NaN                  NaN            NaN           NaN   \n",
       "4                  NaN                  NaN            NaN           NaN   \n",
       "5                  NaN                  NaN            NaN           NaN   \n",
       "6                  NaN                  NaN            NaN           NaN   \n",
       "7                  NaN                  NaN            NaN           NaN   \n",
       "8                  NaN                  NaN            NaN           NaN   \n",
       "9                  NaN                  NaN            NaN           NaN   \n",
       "\n",
       "  Certificate Of Occupancy Total Lot SQFT  \n",
       "0                      NaN            NaN  \n",
       "1                       No            NaN  \n",
       "2                       No            NaN  \n",
       "3                       No            NaN  \n",
       "4                       No            NaN  \n",
       "5                       No            NaN  \n",
       "6                       No            NaN  \n",
       "7                       No            NaN  \n",
       "8                       No            NaN  \n",
       "9                      NaN            NaN  \n",
       "\n",
       "[10 rows x 68 columns]"
      ]
     },
     "execution_count": 2,
     "metadata": {},
     "output_type": "execute_result"
    }
   ],
   "source": [
    "# Load my compressed Austin construction permit data\n",
    "df = pd.read_csv(\"AUS_permits.csv\", low_memory=False) # low_memory avoids a warning message\n",
    "\n",
    "# Load interest rates data\n",
    "interest = pd.read_csv(\"Bank Prime Loan Rate.csv\")\n",
    "\n",
    "print(df.shape)\n",
    "df.head(10)"
   ]
  },
  {
   "cell_type": "code",
   "execution_count": null,
   "metadata": {},
   "outputs": [],
   "source": []
  },
  {
   "cell_type": "markdown",
   "metadata": {},
   "source": [
    "# 1. Initial cleaning and exploration\n",
    "\n",
    "It is okay to delete some of these as long as a new version has been created"
   ]
  },
  {
   "cell_type": "code",
   "execution_count": 3,
   "metadata": {},
   "outputs": [
    {
     "name": "stdout",
     "output_type": "stream",
     "text": [
      "count    297132.00000\n",
      "mean       5340.13228\n",
      "std       27465.30508\n",
      "min        -496.00000\n",
      "25%         800.00000\n",
      "50%        2155.00000\n",
      "75%        3135.00000\n",
      "max     2150640.00000\n",
      "Name: Total New Add SQFT, dtype: float64\n"
     ]
    }
   ],
   "source": [
    "# There may be columns outstanding that still need to be reformatted\n",
    "\n",
    "def comma_replacer(var):\n",
    "    df.loc[:,var] = df[var].replace(',', \"\",regex=True).astype(float)\n",
    "    \n",
    "def datetime_formatter(date_var):\n",
    "    df.loc[:, date_var] = df[date_var].astype('Datetime64')\n",
    "    \n",
    "# Data before 1990 seems a bit strange but I'm retaining it for now. It requires further investigation\n",
    "# 2020 removed due to potential Covid-19 issues\n",
    "# Note the use of my custom functions below! \n",
    "\n",
    "df = df[(df['Fiscal Year Issued'] < 2020)]\n",
    "\n",
    "# Remove commas and convert housing units into float var\n",
    "comma_replacer('Housing Units')\n",
    "comma_replacer('Total New Add SQFT')\n",
    "comma_replacer('Number Of Floors')\n",
    "comma_replacer(\"Total Job Valuation\")\n",
    "\n",
    "# Print descriptive statistics of one of the variables above to make sure the code worked\n",
    "print(df['Total New Add SQFT'].describe())\n",
    "\n",
    "# Datetime formatting\n",
    "datetime_formatter('Issued Date')\n",
    "datetime_formatter('Applied Date')\n",
    "datetime_formatter('Status Date')\n",
    "datetime_formatter('Expires Date')\n",
    "datetime_formatter('Completed Date')\n",
    "\n",
    "# Extract month-year\n",
    "df.loc[:, \"issue_MOYR\"] = df['Issued Date'].dt.to_period('M')\n",
    "\n",
    "# Make all descriptions lower case\n",
    "df.loc[:, 'Description'] = df['Description'].str.lower()\n",
    "df.loc[:, 'Project Name'] = df['Project Name'].str.lower()\n",
    "df.loc[:, 'Original Address 1'] = df['Original Address 1'].str.lower()"
   ]
  },
  {
   "cell_type": "markdown",
   "metadata": {},
   "source": [
    "# 2. Initial graphics"
   ]
  },
  {
   "cell_type": "code",
   "execution_count": null,
   "metadata": {},
   "outputs": [],
   "source": [
    "# Graph to see aggregate permit counts\n",
    "\n",
    "plt.plot(df.groupby('Calendar Year Issued')['Permit Type'].count())\n",
    "plt.title(\"Number of Austin permit filings by calendar year issued\")\n",
    "plt.show()"
   ]
  },
  {
   "cell_type": "code",
   "execution_count": null,
   "metadata": {},
   "outputs": [],
   "source": [
    "df.groupby('Calendar Year Issued')['Permit Type'].count()"
   ]
  },
  {
   "cell_type": "code",
   "execution_count": null,
   "metadata": {},
   "outputs": [],
   "source": [
    "# See Permit types by work class\n",
    "\n",
    "df.groupby('Work Class')['Permit Type'].count().sort_values()"
   ]
  },
  {
   "cell_type": "code",
   "execution_count": null,
   "metadata": {
    "scrolled": true
   },
   "outputs": [],
   "source": [
    "# Graph work class counts for a select group of them. Graph in logs to allow comparison in growth patterns across\n",
    "# work classes with very different scales\n",
    "\n",
    "for i in ['New', 'Shell', 'Remodel', 'Addition and Remodel', 'Addition', 'Modification', 'Demolition', 'Repair']:\n",
    "\n",
    "    plt.plot(np.log(df[df['Work Class'] == i].groupby('Calendar Year Issued')['Permit Type'].count()[5:]), label=i)\n",
    "\n",
    "plt.title(\"Log(Count) by select Work Classes\")    \n",
    "plt.legend(bbox_to_anchor=(1.05, 1), loc=2, borderaxespad=0.)\n",
    "plt.show()"
   ]
  },
  {
   "cell_type": "code",
   "execution_count": null,
   "metadata": {},
   "outputs": [],
   "source": [
    "# Counts by Permit class (50 largest)\n",
    "df.groupby(['Permit Class'])['Permit Type'].count().sort_values()[-50:]"
   ]
  },
  {
   "cell_type": "code",
   "execution_count": null,
   "metadata": {},
   "outputs": [],
   "source": [
    "for i in ['New', 'Shell', 'Remodel', 'Addition and Remodel', 'Addition', 'Modification', 'Demolition', 'Repair']:\n",
    "\n",
    "    plt.plot(np.log(df[df['Work Class'] == i].groupby('Calendar Year Issued')['Total Job Valuation'].mean()[5:]), label=i)\n",
    "\n",
    "plt.title(\"Log(Total Job Valuation) by select Work Classes\")\n",
    "plt.legend(bbox_to_anchor=(1.05, 1), loc=2, borderaxespad=0.)\n",
    "plt.show()\n",
    "\n",
    "# ------------------------------------------------\n",
    "\n",
    "for i in ['C-1000 Commercial Remodel', 'Commercial', 'C- 329 Com Structures Other Than Bldg',\n",
    "'C- 105 Five or More Family Bldgs', 'C- 328 Commercial Other Nonresident Bldg',\n",
    "'C- 213 Hotels, Motels, & Tourist Cabins']:\n",
    "\n",
    "    plt.plot(df[df['Permit Class'] == i].groupby('Calendar Year Issued')['Total Job Valuation'].mean()[5:], label=i)\n",
    "\n",
    "plt.title(\"Log(Total Job Valuation) by select Work Classes\")\n",
    "plt.legend(bbox_to_anchor=(1.05, 1), loc=2, borderaxespad=0.)\n",
    "plt.show()\n",
    "\n",
    "# ------------------------------------------------\n",
    "\n",
    "for i in ['Commercial']:\n",
    "\n",
    "    plt.plot(df[df['Permit Class'] == i].groupby('Calendar Year Issued')['Total Job Valuation'].mean()[5:], label=i)\n",
    "\n",
    "plt.title(\"Total Job Valuation by select Work Classes\")\n",
    "plt.legend(bbox_to_anchor=(1.05, 1), loc=2, borderaxespad=0.)\n",
    "plt.show()\n",
    "\n",
    "# ------------------------------------------------\n",
    "\n",
    "for i in ['New', 'Shell', 'Remodel', 'Addition and Remodel', 'Addition', 'Modification', 'Demolition', 'Repair']:\n",
    "\n",
    "    plt.plot(np.log(df[df['Work Class'] == i].groupby('Calendar Year Issued')['Total Job Valuation'].mean()[5:]), label=i)\n",
    "\n",
    "plt.title(\"Log(Total Job Valuation) by select Work Classes\")\n",
    "plt.legend(bbox_to_anchor=(1.05, 1), loc=2, borderaxespad=0.)\n",
    "plt.show()\n",
    "\n",
    "# ------------------------------------------------\n",
    "\n",
    "for i in df['Permit Type Desc'].unique():\n",
    "\n",
    "    plt.plot(df[df['Permit Type Desc'] == i].groupby('Calendar Year Issued')['Permit Type'].count()[5:], label=i)\n",
    "    \n",
    "plt.legend()\n",
    "plt.show()\n"
   ]
  },
  {
   "cell_type": "code",
   "execution_count": null,
   "metadata": {},
   "outputs": [],
   "source": [
    "# Just trying to get a sense of \"what is a shell\"?\n",
    "\n",
    "df[((df['Description'].str.contains(['hotel')) | (df['Description'].str.contains('motel'))) & \n",
    "  (df['Work Class'] == \"Shell\")]['Description'].values"
   ]
  },
  {
   "cell_type": "code",
   "execution_count": null,
   "metadata": {},
   "outputs": [],
   "source": [
    "# Ranking work classes by the total job valuation\n",
    "\n",
    "df.groupby(['Work Class'])['Total Job Valuation'].mean().sort_values(ascending=False)"
   ]
  },
  {
   "cell_type": "code",
   "execution_count": null,
   "metadata": {},
   "outputs": [],
   "source": [
    "df[df['Project Name'].str.contains(\"101 red river\", na=False)][['Permit Type', 'Permit Class', 'Work Class', 'Description', 'Total Job Valuation']].sort_values(by='Total Job Valuation', ascending=False)"
   ]
  },
  {
   "cell_type": "code",
   "execution_count": null,
   "metadata": {},
   "outputs": [],
   "source": [
    "# Bar graphs to see permit trends in the hotel industry. This code is quite inefficient at the moment.\n",
    "\n",
    "overall_hotel = df[df['Permit Class'] == \"C- 213 Hotels, Motels, & Tourist Cabins\"].groupby('Calendar Year Issued')['Permit Type'].count()\n",
    "\n",
    "new_building_permit_hotel = df[(df['Total Job Valuation'] > 1e6) & ((df['Work Class'] == \"New\") | (df['Work Class'] == \"Shell\") )   & (df['Permit Class Mapped'] == \"Commercial\") &\n",
    "    (df['Permit Class'] == \"C- 213 Hotels, Motels, & Tourist Cabins\")].groupby('Calendar Year Issued')['Permit Type'].count()\n",
    "\n",
    "\n",
    "plt.bar(overall_hotel.index,\n",
    "        overall_hotel.values, label=\"Overall\")\n",
    "\n",
    "plt.bar(new_building_permit_hotel.index,\n",
    "       new_building_permit_hotel.values, label='New projects with val > 1m')\n",
    "\n",
    "plt.title(\"C-213 Hotels, Motels & Tourist Cabins - permits\")\n",
    "\n",
    "plt.legend()\n",
    "plt.show()\n",
    "\n",
    "units_hots = df[(df['Housing Units'] > 200) & ((df['Work Class'] == \"New\") | (df['Work Class'] == \"Shell\") )   & (df['Permit Class Mapped'] == \"Commercial\") &\n",
    "    (df['Permit Class'] == \"C- 213 Hotels, Motels, & Tourist Cabins\")].groupby('Calendar Year Issued')['Permit Type'].count()\n",
    "\n",
    "high_val = df[(df['Total Job Valuation'] > 50e6) & ((df['Work Class'] == \"New\") | (df['Work Class'] == \"Shell\") )   & (df['Permit Class Mapped'] == \"Commercial\") &\n",
    "    (df['Permit Class'] == \"C- 213 Hotels, Motels, & Tourist Cabins\")].groupby('Calendar Year Issued')['Permit Type'].count()\n",
    "\n",
    "tall_hots = df[(df['Number Of Floors'] > 20) & ((df['Work Class'] == \"New\") | (df['Work Class'] == \"Shell\") )   & (df['Permit Class Mapped'] == \"Commercial\") &\n",
    "    (df['Permit Class'] == \"C- 213 Hotels, Motels, & Tourist Cabins\")].groupby('Calendar Year Issued')['Permit Type'].count()\n",
    "\n",
    "# ------------------------------------------------------------------------------\n",
    "\n",
    "plt.bar(overall_hotel.index,\n",
    "        overall_hotel.values, label=\"Overall\")\n",
    "\n",
    "plt.bar(units_hots.index,\n",
    "       units_hots.values, label=\"Projects with more than 200 units\")\n",
    "\n",
    "plt.legend()\n",
    "plt.show()\n",
    "\n",
    "plt.bar(overall_hotel.index,\n",
    "        overall_hotel.values, label=\"Overall\")\n",
    "\n",
    "plt.bar(high_val.index,\n",
    "       high_val.values, label=\"Projects exceeding 50m\")\n",
    "\n",
    "plt.legend()\n",
    "plt.show()\n",
    "\n",
    "plt.bar(overall_hotel.index,\n",
    "        overall_hotel.values, label=\"Overall\")\n",
    "\n",
    "plt.bar(tall_hots.index,\n",
    "       tall_hots.values, label=\"Projects exceeding 10 floors\")\n",
    "\n",
    "plt.legend()\n",
    "plt.show()"
   ]
  },
  {
   "cell_type": "code",
   "execution_count": null,
   "metadata": {},
   "outputs": [],
   "source": [
    "df[(df['Project Name'].str.contains(\"2120 lamar boulevard\",na=False)) & (df['Permit Type'] == \"BP\")][['issue_MOYR', 'Description', 'Total Job Valuation', 'Total New Add SQFT', 'Housing Units']]"
   ]
  },
  {
   "cell_type": "code",
   "execution_count": null,
   "metadata": {},
   "outputs": [],
   "source": [
    "# Conditions to identify new construction of hotels (remodelling or conversion may also be interesting)\n",
    "\n",
    "# Conditions to filter out new construction\n",
    "desc_inds = ['hotel', 'motel']\n",
    "\n",
    "# Conditions to remove, I don't want remodelling, replacement (maybe should keep replace?) or demolishing. \n",
    "desc_remove = [\"remodel\", \"replace\", \"demolish\"]\n",
    "\n",
    "my_conds = ((df['Permit Type'] == \"BP\") & (df[\"Permit Class Mapped\"] == \"Commercial\") & \n",
    "    (df['Work Class'] == \"New\") & (~(df['Total New Add SQFT'].isna()) | ~(df['Number Of Floors'].isna()) | ~(df['Housing Units'].isna()))\n",
    "            & (df['Total Job Valuation'] >= 1e6) & (df['Description'].str.contains('|'.join(desc_inds), na=False))\n",
    "           & (~df['Description'].str.contains(\"|\".join(desc_remove), na=False))) \n",
    "\n",
    "cond_df = df[my_conds][['issue_MOYR', 'Permit Class', 'Issued Date', 'Permit Type', 'Work Class', 'Project Name', 'Description','Total New Add SQFT', \n",
    "                       'Number Of Floors', 'Housing Units', 'Total Job Valuation']]\n",
    "\n",
    "print(len(cond_df))"
   ]
  },
  {
   "cell_type": "code",
   "execution_count": null,
   "metadata": {},
   "outputs": [],
   "source": [
    "cond_df[cond_df[\"Number Of Floors\"].isna()]"
   ]
  },
  {
   "cell_type": "markdown",
   "metadata": {},
   "source": [
    "# 3. Identifying individual projects\n",
    "\n",
    "The function below doesn't work particularly well yet."
   ]
  },
  {
   "cell_type": "code",
   "execution_count": null,
   "metadata": {},
   "outputs": [],
   "source": [
    "# The function below allows me to enter key terms from an address and a number in an attempt to locate projects\n",
    "\n",
    "def project_finder(key_terms): # Key terms should be a list object\n",
    "\n",
    "    return df[((df['Original Address 1'].str.contains('&'.join(key_terms), na=False))) | \n",
    "    (df['Project Name'].str.contains('&'.join(key_terms), na=False) ) & (df['Permit Type'] == \"BP\")][['Project Name', 'Original Address 1', 'Description']]    "
   ]
  },
  {
   "cell_type": "code",
   "execution_count": null,
   "metadata": {},
   "outputs": [],
   "source": [
    "df[df['Project Name'].str.contains(\"110 e 2nd\", na=False)][['Project Name', 'Original Address 1']].values"
   ]
  },
  {
   "cell_type": "code",
   "execution_count": null,
   "metadata": {},
   "outputs": [],
   "source": [
    "# This function finds specific projects\n",
    "\n",
    "project_finder(['110 e 2nd st'])"
   ]
  },
  {
   "cell_type": "code",
   "execution_count": null,
   "metadata": {},
   "outputs": [],
   "source": [
    "# Nice example hotel from the data. Try to keep this as an illustration\n",
    "\n",
    "df[(df['Project Name'] == \"701 e stassney ln bldg l\")][['Project Name', 'Issued Date', 'Permit Type', \"Permit Type Desc\", \n",
    "                                                     'Permit Num', \"Permit Class Mapped\",\n",
    "                                                     'Permit Class', 'Work Class', \n",
    "                                                     'TCAD ID', 'Description', 'Contractor Trade']].sort_values(by='Issued Date')"
   ]
  },
  {
   "cell_type": "markdown",
   "metadata": {},
   "source": [
    "# 4. Entry/exit patterns"
   ]
  },
  {
   "cell_type": "code",
   "execution_count": null,
   "metadata": {},
   "outputs": [],
   "source": [
    "month_dates_grid = pd.DataFrame(pd.date_range(start='1980-01-01', end='2020-01-01', freq='MS'))\n",
    "month_dates_grid.columns = ['mo_yr']"
   ]
  },
  {
   "cell_type": "code",
   "execution_count": null,
   "metadata": {},
   "outputs": [],
   "source": [
    "# Create a dataframe that counts entry and exit of hotels\n",
    "\n",
    "dates = cond_df.groupby('issue_MOYR')['Issued Date'].count().index\n",
    "counts = cond_df.groupby('issue_MOYR')['Issued Date'].count().values\n",
    "\n",
    "permits_df = pd.DataFrame([dates, counts]).T\n",
    "permits_df.columns = ['mo_yr', 'counts']"
   ]
  },
  {
   "cell_type": "code",
   "execution_count": null,
   "metadata": {},
   "outputs": [],
   "source": [
    "permits_df['mo_yr'] = permits_df['mo_yr'].astype(str).astype('Datetime64')"
   ]
  },
  {
   "cell_type": "code",
   "execution_count": null,
   "metadata": {},
   "outputs": [],
   "source": [
    "hot_activity = month_dates_grid.merge(permits_df[['mo_yr', 'counts']], on='mo_yr', how='left')"
   ]
  },
  {
   "cell_type": "code",
   "execution_count": null,
   "metadata": {},
   "outputs": [],
   "source": [
    "hot_activity = hot_activity.fillna(0)"
   ]
  },
  {
   "cell_type": "code",
   "execution_count": null,
   "metadata": {},
   "outputs": [],
   "source": [
    "hot_activity.loc[:, \"MA6\"] = hot_activity['counts'].rolling(window=6).mean()\n",
    "hot_activity.loc[:, \"MA12\"] = hot_activity['counts'].rolling(window=12).mean()\n",
    "hot_activity.loc[:, \"MA18\"] = hot_activity['counts'].rolling(window=18).mean()"
   ]
  },
  {
   "cell_type": "code",
   "execution_count": null,
   "metadata": {},
   "outputs": [],
   "source": [
    "plt.plot(hot_activity.mo_yr, hot_activity.counts, color='green', label='Monthly permits')\n",
    "# plt.plot(hot_activity.mo_yr, hot_activity.MA6, label='6-month MA')\n",
    "plt.plot(hot_activity.mo_yr, hot_activity.MA12, color='black', linewidth=1.5, label='12-month MA')\n",
    "\n",
    "plt.title(\"Monthly Austin permit counts and 12-month moving average\")\n",
    "plt.legend()\n",
    "plt.show()"
   ]
  },
  {
   "cell_type": "markdown",
   "metadata": {},
   "source": [
    "# 5. Interest rates and activity"
   ]
  },
  {
   "cell_type": "code",
   "execution_count": null,
   "metadata": {},
   "outputs": [],
   "source": [
    "interest.loc[:, \"DATE\"] = interest.DATE.astype('Datetime64')"
   ]
  },
  {
   "cell_type": "code",
   "execution_count": null,
   "metadata": {},
   "outputs": [],
   "source": [
    "hot_act = hot_activity.merge(interest[['DATE', 'MPRIME']], left_on='mo_yr', right_on='DATE', how='left')"
   ]
  },
  {
   "cell_type": "code",
   "execution_count": null,
   "metadata": {},
   "outputs": [],
   "source": [
    "plt.plot(hot_act.mo_yr, hot_act.MA12)\n",
    "plt.plot(hot_act.mo_yr, hot_act.MPRIME)\n",
    "\n",
    "plt.show()"
   ]
  },
  {
   "cell_type": "code",
   "execution_count": null,
   "metadata": {},
   "outputs": [],
   "source": [
    "# Pearson is the standard correlation coefficient \n",
    "\n",
    "hot_act.corr(method='pearson')"
   ]
  },
  {
   "cell_type": "code",
   "execution_count": null,
   "metadata": {},
   "outputs": [],
   "source": [
    "plt.scatter(hot_act.MPRIME, hot_act.MA12, label='MA12')\n",
    "\n",
    "\n",
    "plt.legend()\n",
    "plt.show()"
   ]
  },
  {
   "cell_type": "code",
   "execution_count": null,
   "metadata": {},
   "outputs": [],
   "source": [
    "def two_axis_graph(df):\n",
    "\n",
    "    dates1 = df['mo_yr']\n",
    "    dates2 = df['mo_yr']\n",
    "\n",
    "    data1 = df['MA12']\n",
    "    data2 = df['MPRIME']\n",
    "\n",
    "    fig, ax1 = plt.subplots()\n",
    "    plt.xticks(rotation=\"vertical\")\n",
    "\n",
    "    price_color = 'tab:red'\n",
    "    ax1.set_ylabel('12-month moving average hotel entry', color='red')\n",
    "    lns1 = ax1.plot(dates1, data1, color=price_color, label=\"MA-hots\")\n",
    "    ax1.tick_params(axis='y', labelcolor='red')\n",
    "    # ax1.set_ylim(0, 500)\n",
    "\n",
    "    ax2 = ax1.twinx()  # instantiate a second axes that shares the same x-axis\n",
    "\n",
    "    act_color = 'tab:green'\n",
    "    ax2.set_ylabel('Monthly Bank Prime Loan Rate (%)', color='green')  # we already handled the x-label with ax1\n",
    "    lns2 = ax2.plot(dates2, data2, color=act_color, label=\"Interest\")\n",
    "    ax2.tick_params(axis='y', labelcolor='green')\n",
    "\n",
    "\n",
    "    fig.tight_layout()  # otherwise the right y-label is slightly clipped\n",
    "\n",
    "    plt.show()"
   ]
  },
  {
   "cell_type": "code",
   "execution_count": null,
   "metadata": {
    "scrolled": true
   },
   "outputs": [],
   "source": [
    "two_axis_graph(hot_act)"
   ]
  },
  {
   "cell_type": "markdown",
   "metadata": {},
   "source": [
    "# Jacob Work"
   ]
  },
  {
   "cell_type": "code",
   "execution_count": 4,
   "metadata": {},
   "outputs": [
    {
     "data": {
      "text/plain": [
       "Calendar Year Issued\n",
       "1979      2\n",
       "1980     31\n",
       "1981     34\n",
       "1982     76\n",
       "1983     69\n",
       "1984    112\n",
       "1985    132\n",
       "1986    120\n",
       "1987     41\n",
       "1988     27\n",
       "1989     21\n",
       "1990     21\n",
       "1991     17\n",
       "1992     50\n",
       "1993     33\n",
       "1994     66\n",
       "1995     66\n",
       "1996     81\n",
       "1997     87\n",
       "1998     84\n",
       "1999     80\n",
       "2000     61\n",
       "2001     63\n",
       "2002     47\n",
       "2003     11\n",
       "2004     48\n",
       "2005     73\n",
       "2006     83\n",
       "2007    218\n",
       "2008    196\n",
       "2009    136\n",
       "2010     70\n",
       "2011    101\n",
       "2012    237\n",
       "2013    249\n",
       "2014    414\n",
       "2015    361\n",
       "2016    447\n",
       "2017    270\n",
       "2018    331\n",
       "2019    385\n",
       "Name: Description, dtype: int64"
      ]
     },
     "execution_count": 4,
     "metadata": {},
     "output_type": "execute_result"
    }
   ],
   "source": [
    "df[((df['Description'].str.contains('hotel')) | (df['Description'].str.contains('motel') | (df['Description'].str.contains('tourist cabin'))))]['Description'].groupby(by = df['Calendar Year Issued']).count()"
   ]
  },
  {
   "cell_type": "code",
   "execution_count": 5,
   "metadata": {},
   "outputs": [
    {
     "data": {
      "text/plain": [
       "<bound method Series.unique of 3140                       Hundley's Htg & A/C Inc.\n",
       "3169                      Dream Makers Construction\n",
       "3172                                DOMIN RAYMOND L\n",
       "3203                               Foley Properties\n",
       "3232                Lennar Homes of Texas***MAIN***\n",
       "                             ...                   \n",
       "2000339    MGD LANTANA-Morgan Group Development LLC\n",
       "2000345                          Austin Canyon Corp\n",
       "2000346     Greystar Development & Construction, LP\n",
       "2000349              Epoch Properties lane 111, llc\n",
       "2000350                      Urban Intown Homes LLC\n",
       "Name: Applicant Organization, Length: 138303, dtype: object>"
      ]
     },
     "execution_count": 5,
     "metadata": {},
     "output_type": "execute_result"
    }
   ],
   "source": [
    "## List of unique organizations\n",
    "df['Applicant Organization'].dropna().unique"
   ]
  },
  {
   "cell_type": "code",
   "execution_count": 6,
   "metadata": {},
   "outputs": [],
   "source": [
    "## Create sub data frame with just 'hotel' in the desrciption\n",
    "## Create a pandas series that is boolean on weather description contains hotel\n",
    "df['Hotel'] = df['Description'].str.contains('hotel')\n",
    "## Turn the boolean series to a dummy variable\n",
    "df = pd.concat([df, pd.get_dummies(df['Hotel'].astype('category'), prefix = 'd')], axis = 1)"
   ]
  },
  {
   "cell_type": "code",
   "execution_count": 7,
   "metadata": {},
   "outputs": [],
   "source": [
    "## produce data frame where df['Hotels'] = True\n",
    "df2 = df[df.d_True != 0]"
   ]
  },
  {
   "cell_type": "code",
   "execution_count": 8,
   "metadata": {},
   "outputs": [
    {
     "data": {
      "text/plain": [
       "Applicant Organization\n",
       "Hunt Construction Group (Arizona)               76\n",
       "DPR Construction  *MAIN**                       38\n",
       "TD Industries Inc                               32\n",
       "Katerra Construction LLC                        28\n",
       "Hunt Construction Group Inc                     28\n",
       "                                                ..\n",
       "HOEGGER & ASSOCIATES                             1\n",
       "Rogers-O'Brien Construction Co. LTD **MAIN**     1\n",
       "Ross-DePass Buildin SVC.                         1\n",
       "H.I. Austin Airport , LP                         1\n",
       "3401 Hoteliers Lp                                1\n",
       "Name: Permit Type, Length: 262, dtype: int64"
      ]
     },
     "execution_count": 8,
     "metadata": {},
     "output_type": "execute_result"
    }
   ],
   "source": [
    "#count of applications per org\n",
    "df2.groupby('Applicant Organization')['Permit Type'].count().sort_values(ascending = False)"
   ]
  },
  {
   "cell_type": "code",
   "execution_count": 9,
   "metadata": {},
   "outputs": [],
   "source": [
    "top5 = ['Hunt Construction Group (Arizona)', 'DPR Construction  *MAIN**', 'TD Industries Inc', 'Katerra Construction LLC','Hunt Construction Group Inc']"
   ]
  },
  {
   "cell_type": "code",
   "execution_count": 10,
   "metadata": {},
   "outputs": [
    {
     "data": {
      "image/png": "[encoded data removed]",
      "text/plain": [
       "<Figure size 432x288 with 1 Axes>"
      ]
     },
     "metadata": {
      "needs_background": "light"
     },
     "output_type": "display_data"
    }
   ],
   "source": [
    "## Permits with hotel in the name per year\n",
    "plt.plot(df2.groupby('Calendar Year Issued')['Permit Type'].count())\n",
    "plt.title('Permits per year with hotel in the description')\n",
    "plt.show()"
   ]
  },
  {
   "cell_type": "code",
   "execution_count": 11,
   "metadata": {},
   "outputs": [
    {
     "data": {
      "image/png": "[encoded data removed]",
      "text/plain": [
       "<Figure size 432x288 with 1 Axes>"
      ]
     },
     "metadata": {
      "needs_background": "light"
     },
     "output_type": "display_data"
    }
   ],
   "source": [
    "for i in top5:\n",
    "    plt.plot((df2[df2['Applicant Organization'] == i].groupby('Calendar Year Issued')['Permit Type'].count())/len(df2), label=i)\n",
    "plt.title(\"Proportion of Permits by the top 5 developers in a given year\")    \n",
    "plt.legend(bbox_to_anchor=(1.05, 1), loc=2, borderaxespad=0.)\n",
    "plt.show()\n",
    "    "
   ]
  },
  {
   "cell_type": "code",
   "execution_count": 24,
   "metadata": {},
   "outputs": [],
   "source": [
    "df2 = df2.rename(columns = {'Applicant Organization':'Applicant_Organization'})"
   ]
  },
  {
   "cell_type": "code",
   "execution_count": 76,
   "metadata": {},
   "outputs": [],
   "source": [
    "#Creating t, a list that holds the years covered in the data set\n",
    "#Creating a data series that represents the proportion of applications in that year for organization i\n",
    "#to create the series for the company, i will reduce the data set to just entries of that company,\n",
    "#then group by year and apply the count function of permits per year and store that as the y\n",
    "#Then from that data, i will be able to easily use plt to show the proportion over time of the orgs\n",
    "dfi = df2[df2.Applicant_Organization == top5[0]]"
   ]
  },
  {
   "cell_type": "code",
   "execution_count": 77,
   "metadata": {},
   "outputs": [
    {
     "data": {
      "text/plain": [
       "Calendar Year Issued\n",
       "2011    14\n",
       "2012     1\n",
       "2013     1\n",
       "2014    22\n",
       "2015    38\n",
       "Name: Permit Type, dtype: int64"
      ]
     },
     "execution_count": 77,
     "metadata": {},
     "output_type": "execute_result"
    }
   ],
   "source": [
    "dfi.groupby('Calendar Year Issued')['Permit Type'].count()"
   ]
  },
  {
   "cell_type": "code",
   "execution_count": 78,
   "metadata": {},
   "outputs": [],
   "source": [
    "#list of unique calendar years in a list\n",
    "t = df2['Calendar Year Issued'].unique().tolist()"
   ]
  },
  {
   "cell_type": "code",
   "execution_count": 79,
   "metadata": {},
   "outputs": [
    {
     "data": {
      "text/plain": [
       "\"\\ndata = []\\nfor i in t:\\n    count = 0\\n    for x in dfi['Calendar Year Issued']:\\n        if i == x:\\n            count += 1\\n    data.append(count)\\nser = pd.Series(data, index = t)\\n\""
      ]
     },
     "execution_count": 79,
     "metadata": {},
     "output_type": "execute_result"
    }
   ],
   "source": [
    "\"\"\"\n",
    "data = []\n",
    "for i in t:\n",
    "    count = 0\n",
    "    for x in dfi['Calendar Year Issued']:\n",
    "        if i == x:\n",
    "            count += 1\n",
    "    data.append(count)\n",
    "ser = pd.Series(data, index = t)\n",
    "\"\"\""
   ]
  },
  {
   "cell_type": "code",
   "execution_count": 80,
   "metadata": {},
   "outputs": [],
   "source": [
    "#start with a list, for every year in t, loop through dfi to see how many times it contains that value\n",
    "#add that count to the data list, same length as t\n",
    "#turn that list into a series that can be used to plot\n",
    "def series_org(a):\n",
    "    data = []\n",
    "    for i in t:\n",
    "        count = 0\n",
    "        for x in a['Calendar Year Issued']:\n",
    "            if i == x:\n",
    "                count += 1\n",
    "        data.append(count)\n",
    "    ser = pd.Series(data, index = t)\n",
    "    return ser"
   ]
  },
  {
   "cell_type": "code",
   "execution_count": 85,
   "metadata": {},
   "outputs": [
    {
     "name": "stderr",
     "output_type": "stream",
     "text": [
      "No handles with labels found to put in legend.\n"
     ]
    },
    {
     "data": {
      "image/png": "[encoded data removed]",
      "text/plain": [
       "<Figure size 432x288 with 1 Axes>"
      ]
     },
     "metadata": {
      "needs_background": "light"
     },
     "output_type": "display_data"
    }
   ],
   "source": [
    "for i in top5:\n",
    "    dfi = df2[df2.Applicant_Organization == i]\n",
    "    x = series_org(dfi)\n",
    "    plt.plot(x)\n",
    "plt.title('Plot of Permits by Top 5 hotel builders per year')\n",
    "plt.legend()\n",
    "plt.show()"
   ]
  },
  {
   "cell_type": "code",
   "execution_count": 81,
   "metadata": {},
   "outputs": [
    {
     "data": {
      "image/png": "[encoded data removed]",
      "text/plain": [
       "<Figure size 432x288 with 1 Axes>"
      ]
     },
     "metadata": {
      "needs_background": "light"
     },
     "output_type": "display_data"
    }
   ],
   "source": [
    "b = series_org(dfi)\n",
    "plt.plot(b)\n",
    "plt.show()"
   ]
  },
  {
   "cell_type": "code",
   "execution_count": 12,
   "metadata": {},
   "outputs": [
    {
     "ename": "KeyError",
     "evalue": "''",
     "output_type": "error",
     "traceback": [
      "\u001b[0;31m---------------------------------------------------------------------------\u001b[0m",
      "\u001b[0;31mKeyError\u001b[0m                                  Traceback (most recent call last)",
      "\u001b[0;32m~/opt/anaconda3/lib/python3.7/site-packages/pandas/core/indexes/base.py\u001b[0m in \u001b[0;36mget_loc\u001b[0;34m(self, key, method, tolerance)\u001b[0m\n\u001b[1;32m   2888\u001b[0m             \u001b[0;32mtry\u001b[0m\u001b[0;34m:\u001b[0m\u001b[0;34m\u001b[0m\u001b[0;34m\u001b[0m\u001b[0m\n\u001b[0;32m-> 2889\u001b[0;31m                 \u001b[0;32mreturn\u001b[0m \u001b[0mself\u001b[0m\u001b[0;34m.\u001b[0m\u001b[0m_engine\u001b[0m\u001b[0;34m.\u001b[0m\u001b[0mget_loc\u001b[0m\u001b[0;34m(\u001b[0m\u001b[0mcasted_key\u001b[0m\u001b[0;34m)\u001b[0m\u001b[0;34m\u001b[0m\u001b[0;34m\u001b[0m\u001b[0m\n\u001b[0m\u001b[1;32m   2890\u001b[0m             \u001b[0;32mexcept\u001b[0m \u001b[0mKeyError\u001b[0m \u001b[0;32mas\u001b[0m \u001b[0merr\u001b[0m\u001b[0;34m:\u001b[0m\u001b[0;34m\u001b[0m\u001b[0;34m\u001b[0m\u001b[0m\n",
      "\u001b[0;32mpandas/_libs/index.pyx\u001b[0m in \u001b[0;36mpandas._libs.index.IndexEngine.get_loc\u001b[0;34m()\u001b[0m\n",
      "\u001b[0;32mpandas/_libs/index.pyx\u001b[0m in \u001b[0;36mpandas._libs.index.IndexEngine.get_loc\u001b[0;34m()\u001b[0m\n",
      "\u001b[0;32mpandas/_libs/hashtable_class_helper.pxi\u001b[0m in \u001b[0;36mpandas._libs.hashtable.PyObjectHashTable.get_item\u001b[0;34m()\u001b[0m\n",
      "\u001b[0;32mpandas/_libs/hashtable_class_helper.pxi\u001b[0m in \u001b[0;36mpandas._libs.hashtable.PyObjectHashTable.get_item\u001b[0;34m()\u001b[0m\n",
      "\u001b[0;31mKeyError\u001b[0m: ''",
      "\nThe above exception was the direct cause of the following exception:\n",
      "\u001b[0;31mKeyError\u001b[0m                                  Traceback (most recent call last)",
      "\u001b[0;32m<ipython-input-12-785ef35e448f>\u001b[0m in \u001b[0;36m<module>\u001b[0;34m\u001b[0m\n\u001b[1;32m      3\u001b[0m \u001b[0;31m#then one could say that they 'set off' the explosion and all the follow on\u001b[0m\u001b[0;34m\u001b[0m\u001b[0;34m\u001b[0m\u001b[0;34m\u001b[0m\u001b[0m\n\u001b[1;32m      4\u001b[0m \u001b[0;31m#might also add a line which is basically, all other developers besides the top 5\u001b[0m\u001b[0;34m\u001b[0m\u001b[0;34m\u001b[0m\u001b[0;34m\u001b[0m\u001b[0m\n\u001b[0;32m----> 5\u001b[0;31m \u001b[0mt\u001b[0m \u001b[0;34m=\u001b[0m \u001b[0mdf\u001b[0m\u001b[0;34m[\u001b[0m\u001b[0;34m''\u001b[0m\u001b[0;34m]\u001b[0m\u001b[0;34m\u001b[0m\u001b[0;34m\u001b[0m\u001b[0m\n\u001b[0m\u001b[1;32m      6\u001b[0m \u001b[0mdata1\u001b[0m \u001b[0;34m=\u001b[0m \u001b[0mnp\u001b[0m\u001b[0;34m.\u001b[0m\u001b[0mexp\u001b[0m\u001b[0;34m(\u001b[0m\u001b[0mt\u001b[0m\u001b[0;34m)\u001b[0m\u001b[0;34m\u001b[0m\u001b[0;34m\u001b[0m\u001b[0m\n\u001b[1;32m      7\u001b[0m \u001b[0mdata2\u001b[0m \u001b[0;34m=\u001b[0m \u001b[0mnp\u001b[0m\u001b[0;34m.\u001b[0m\u001b[0msin\u001b[0m\u001b[0;34m(\u001b[0m\u001b[0;36m2\u001b[0m \u001b[0;34m*\u001b[0m \u001b[0mnp\u001b[0m\u001b[0;34m.\u001b[0m\u001b[0mpi\u001b[0m \u001b[0;34m*\u001b[0m \u001b[0mt\u001b[0m\u001b[0;34m)\u001b[0m\u001b[0;34m\u001b[0m\u001b[0;34m\u001b[0m\u001b[0m\n",
      "\u001b[0;32m~/opt/anaconda3/lib/python3.7/site-packages/pandas/core/frame.py\u001b[0m in \u001b[0;36m__getitem__\u001b[0;34m(self, key)\u001b[0m\n\u001b[1;32m   2900\u001b[0m             \u001b[0;32mif\u001b[0m \u001b[0mself\u001b[0m\u001b[0;34m.\u001b[0m\u001b[0mcolumns\u001b[0m\u001b[0;34m.\u001b[0m\u001b[0mnlevels\u001b[0m \u001b[0;34m>\u001b[0m \u001b[0;36m1\u001b[0m\u001b[0;34m:\u001b[0m\u001b[0;34m\u001b[0m\u001b[0;34m\u001b[0m\u001b[0m\n\u001b[1;32m   2901\u001b[0m                 \u001b[0;32mreturn\u001b[0m \u001b[0mself\u001b[0m\u001b[0;34m.\u001b[0m\u001b[0m_getitem_multilevel\u001b[0m\u001b[0;34m(\u001b[0m\u001b[0mkey\u001b[0m\u001b[0;34m)\u001b[0m\u001b[0;34m\u001b[0m\u001b[0;34m\u001b[0m\u001b[0m\n\u001b[0;32m-> 2902\u001b[0;31m             \u001b[0mindexer\u001b[0m \u001b[0;34m=\u001b[0m \u001b[0mself\u001b[0m\u001b[0;34m.\u001b[0m\u001b[0mcolumns\u001b[0m\u001b[0;34m.\u001b[0m\u001b[0mget_loc\u001b[0m\u001b[0;34m(\u001b[0m\u001b[0mkey\u001b[0m\u001b[0;34m)\u001b[0m\u001b[0;34m\u001b[0m\u001b[0;34m\u001b[0m\u001b[0m\n\u001b[0m\u001b[1;32m   2903\u001b[0m             \u001b[0;32mif\u001b[0m \u001b[0mis_integer\u001b[0m\u001b[0;34m(\u001b[0m\u001b[0mindexer\u001b[0m\u001b[0;34m)\u001b[0m\u001b[0;34m:\u001b[0m\u001b[0;34m\u001b[0m\u001b[0;34m\u001b[0m\u001b[0m\n\u001b[1;32m   2904\u001b[0m                 \u001b[0mindexer\u001b[0m \u001b[0;34m=\u001b[0m \u001b[0;34m[\u001b[0m\u001b[0mindexer\u001b[0m\u001b[0;34m]\u001b[0m\u001b[0;34m\u001b[0m\u001b[0;34m\u001b[0m\u001b[0m\n",
      "\u001b[0;32m~/opt/anaconda3/lib/python3.7/site-packages/pandas/core/indexes/base.py\u001b[0m in \u001b[0;36mget_loc\u001b[0;34m(self, key, method, tolerance)\u001b[0m\n\u001b[1;32m   2889\u001b[0m                 \u001b[0;32mreturn\u001b[0m \u001b[0mself\u001b[0m\u001b[0;34m.\u001b[0m\u001b[0m_engine\u001b[0m\u001b[0;34m.\u001b[0m\u001b[0mget_loc\u001b[0m\u001b[0;34m(\u001b[0m\u001b[0mcasted_key\u001b[0m\u001b[0;34m)\u001b[0m\u001b[0;34m\u001b[0m\u001b[0;34m\u001b[0m\u001b[0m\n\u001b[1;32m   2890\u001b[0m             \u001b[0;32mexcept\u001b[0m \u001b[0mKeyError\u001b[0m \u001b[0;32mas\u001b[0m \u001b[0merr\u001b[0m\u001b[0;34m:\u001b[0m\u001b[0;34m\u001b[0m\u001b[0;34m\u001b[0m\u001b[0m\n\u001b[0;32m-> 2891\u001b[0;31m                 \u001b[0;32mraise\u001b[0m \u001b[0mKeyError\u001b[0m\u001b[0;34m(\u001b[0m\u001b[0mkey\u001b[0m\u001b[0;34m)\u001b[0m \u001b[0;32mfrom\u001b[0m \u001b[0merr\u001b[0m\u001b[0;34m\u001b[0m\u001b[0;34m\u001b[0m\u001b[0m\n\u001b[0m\u001b[1;32m   2892\u001b[0m \u001b[0;34m\u001b[0m\u001b[0m\n\u001b[1;32m   2893\u001b[0m         \u001b[0;32mif\u001b[0m \u001b[0mtolerance\u001b[0m \u001b[0;32mis\u001b[0m \u001b[0;32mnot\u001b[0m \u001b[0;32mNone\u001b[0m\u001b[0;34m:\u001b[0m\u001b[0;34m\u001b[0m\u001b[0;34m\u001b[0m\u001b[0m\n",
      "\u001b[0;31mKeyError\u001b[0m: ''"
     ]
    }
   ],
   "source": [
    "#Trying to plot when the top 5 build, overlayed by total permits. \n",
    "#Basically the logic is, if you see that the top 5 spike at the same time as total permits spike\n",
    "#then one could say that they 'set off' the explosion and all the follow on\n",
    "#might also add a line which is basically, all other developers besides the top 5\n",
    "data1 = df2.groupby('Applicant Organization')\n",
    "data2 = np.sin(2 * np.pi * t)\n",
    "\n",
    "fig, ax1 = plt.subplots()\n",
    "\n",
    "color = 'tab:red'\n",
    "ax1.set_xlabel('time (s)')\n",
    "ax1.set_ylabel('exp', color=color)\n",
    "ax1.plot(t, data1, color=color)\n",
    "ax1.tick_params(axis='y', labelcolor=color)\n",
    "\n",
    "ax2 = ax1.twinx()  # instantiate a second axes that shares the same x-axis\n",
    "\n",
    "color = 'tab:blue'\n",
    "ax2.set_ylabel('sin', color=color)  # we already handled the x-label with ax1\n",
    "ax2.plot(t, data2, color=color)\n",
    "ax2.tick_params(axis='y', labelcolor=color)\n",
    "\n",
    "fig.tight_layout()  # otherwise the right y-label is slightly clipped\n",
    "plt.show()"
   ]
  }
 ],
 "metadata": {
  "kernelspec": {
   "display_name": "Python 3",
   "language": "python",
   "name": "python3"
  },
  "language_info": {
   "codemirror_mode": {
    "name": "ipython",
    "version": 3
   },
   "file_extension": ".py",
   "mimetype": "text/x-python",
   "name": "python",
   "nbconvert_exporter": "python",
   "pygments_lexer": "ipython3",
   "version": "3.7.6"
  }
 },
 "nbformat": 4,
 "nbformat_minor": 2
}
