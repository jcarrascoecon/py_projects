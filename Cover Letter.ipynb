{
 "cells": [
  {
   "cell_type": "code",
   "execution_count": 9,
   "metadata": {},
   "outputs": [
    {
     "name": "stdout",
     "output_type": "stream",
     "text": [
      "Company Name:Fed\n",
      "Position:RA\n",
      "reader:adi\n"
     ]
    }
   ],
   "source": [
    "company_name = input(\"Company Name:\",)\n",
    "position = input(\"Position:\",)\n",
    "reader = input(\"reader:\",)\n",
    "\n",
    "cl = open(company_name,\"w\")\n",
    "cl.write(\"Dear,\"+reader)\n",
    "cl.write(\"I am confident that I am qualified to assist with your research at the intersection of macro and finance. At NYU I have always strived to take classes that will not only acquaint me with the models, but also allow me to ask questions of the models. As such, one of my favorite classes has been econometrics (with Sharon Traiberman, where I received the 9th highest grade in a class of 150).  This semester, I am taking advanced econometrics (with Elena Manresa). Both econometrics classes have been taken in R, and Prof Manresa promises to integrate machine learning techniques into her advanced curriculum this semester. I have also taken an advanced Macro course with Lars Ljungqvist where we extensively covered search models, the Solow growth model, the NAIRU model, and topics like time consistency of monetary policy.\" \n",
    ")\n",
    "cl.write(company_name)\n",
    "cl.write(\"My research experience has been rife in problem-solving and the implementation of new tools. I have worked with Sharon Traiberman since January 2019 on his project concerning 19th century tariffs. For that project, I learned ABBY reader, an AI powered tool that I used to convert PDFs of old books into an excel deliverable totaling over 3,400 unique goods. In addition to my work with Sharon, I have opted to write my honors thesis at NYU in my third year. In this project I am working with CEX data to analyze the consumption effects of durable and non-durable goods in reaction to an increase in food stamp benefits. For this project I am teaching myself STATA to handle and compile the CEX panel across years.\")\n",
    "cl.write(position)\n",
    "cl.write(\"My eventual goal is to obtain a PhD in economics, and become an economist myself. While I am currently planning to graduate in Dec 2020 after taking more advanced math classes, I am very interested in this position to substitute time and tuition in school for experience while retaining the ability to take classes. I look forward to a conversation with your team soon about how I can help.\")\n",
    "cl.close()\n"
   ]
  },
  {
   "cell_type": "code",
   "execution_count": null,
   "metadata": {},
   "outputs": [],
   "source": []
  },
  {
   "cell_type": "code",
   "execution_count": null,
   "metadata": {},
   "outputs": [],
   "source": []
  },
  {
   "cell_type": "code",
   "execution_count": null,
   "metadata": {},
   "outputs": [],
   "source": []
  },
  {
   "cell_type": "code",
   "execution_count": null,
   "metadata": {},
   "outputs": [],
   "source": []
  }
 ],
 "metadata": {
  "kernelspec": {
   "display_name": "Python 3",
   "language": "python",
   "name": "python3"
  },
  "language_info": {
   "codemirror_mode": {
    "name": "ipython",
    "version": 3
   },
   "file_extension": ".py",
   "mimetype": "text/x-python",
   "name": "python",
   "nbconvert_exporter": "python",
   "pygments_lexer": "ipython3",
   "version": "3.7.6"
  }
 },
 "nbformat": 4,
 "nbformat_minor": 4
}
