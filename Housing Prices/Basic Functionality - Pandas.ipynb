{
 "cells": [
  {
   "cell_type": "code",
   "execution_count": 39,
   "metadata": {},
   "outputs": [
    {
     "data": {
      "text/plain": [
       "state\n",
       "Alabama          2009-10-01\n",
       "Alaska           2009-08-01\n",
       "Arizona          2009-11-01\n",
       "Arkansas         2011-01-01\n",
       "California       2010-03-01\n",
       "Colorado         2010-09-01\n",
       "Connecticut      2000-08-01\n",
       "Delaware         2010-01-01\n",
       "Florida          2010-01-01\n",
       "Georgia          2010-02-01\n",
       "Hawaii           2009-05-01\n",
       "Idaho            2009-06-01\n",
       "Illinois         2009-12-01\n",
       "Indiana          2010-01-01\n",
       "Iowa             2009-05-01\n",
       "Kansas           2009-08-01\n",
       "Kentucky         2009-06-01\n",
       "Louisiana        2005-09-01\n",
       "Maine            2009-06-01\n",
       "Maryland         2010-01-01\n",
       "Massachusetts    2009-12-01\n",
       "Michigan         2009-06-01\n",
       "Minnesota        2009-05-01\n",
       "Mississippi      2010-02-01\n",
       "Missouri         2010-01-01\n",
       "Montana          2010-02-01\n",
       "Nebraska         2010-01-01\n",
       "Nevada           2010-09-01\n",
       "New Hampshire    2009-05-01\n",
       "New Mexico       2010-05-01\n",
       "New York         2009-11-01\n",
       "New jersey       2009-11-01\n",
       "North Carolina   2010-01-01\n",
       "North Dakota     2009-04-01\n",
       "Ohio             2010-01-01\n",
       "Oklahoma         2010-01-01\n",
       "Oregon           2009-05-01\n",
       "Pennsylvania     2010-02-01\n",
       "Rhode island     2010-05-01\n",
       "South Carolina   2009-12-01\n",
       "South Dakota     2009-05-01\n",
       "Tennessee        2009-06-01\n",
       "Texas            2009-08-01\n",
       "Utah             2010-03-01\n",
       "Vermont          2009-04-01\n",
       "Virginia         2010-02-01\n",
       "Washington       2009-12-01\n",
       "West Virginia    2010-10-01\n",
       "Wisconsin        2010-01-01\n",
       "Wyoming          2009-11-01\n",
       "dtype: datetime64[ns]"
      ]
     },
     "execution_count": 39,
     "metadata": {},
     "output_type": "execute_result"
    }
   ],
   "source": [
    "import pandas as pd\n",
    "import matplotlib.pyplot as plt\n",
    "%matplotlib inline\n",
    "import qeds\n",
    "\n",
    "url = \"https://datascience.quantecon.org/assets/data/state_unemployment.csv\"\n",
    "unemp_raw = pd.read_csv(url, parse_dates = [\"Date\"])\n",
    "unemp_raw.head()\n",
    "\n",
    "unemp_all = (\n",
    "    unemp_raw\n",
    "    .reset_index()\n",
    "    .pivot_table(index=\"Date\", columns=\"state\", values=\"UnemploymentRate\")\n",
    ")\n",
    "unemp_all.head()\n",
    "\n",
    "def z_score(x):\n",
    "    mu = x.mean()\n",
    "    sigma = x.std()\n",
    "    return (x-mu)/sigma\n",
    "\n",
    "unemp_z = unemp_all.apply(z_score)\n",
    "unemp_z_abs = unemp_z.abs()\n",
    "unemp_z_abs.head()\n",
    "\n",
    "def idxmax(x):\n",
    "    return x.idxmax()\n",
    "\n",
    "unemp_z_abs.idxmax()\n"
   ]
  },
  {
   "cell_type": "code",
   "execution_count": 40,
   "metadata": {},
   "outputs": [
    {
     "data": {
      "text/plain": [
       "Date\n",
       "2000-01-01    2.4\n",
       "2000-02-01    2.4\n",
       "2000-03-01    2.4\n",
       "2000-04-01    2.4\n",
       "2000-05-01    2.3\n",
       "             ... \n",
       "2017-08-01    2.2\n",
       "2017-09-01    2.2\n",
       "2017-10-01    2.1\n",
       "2017-11-01    2.1\n",
       "2017-12-01    2.1\n",
       "Length: 216, dtype: float64"
      ]
     },
     "execution_count": 40,
     "metadata": {},
     "output_type": "execute_result"
    }
   ],
   "source": [
    "unemp = unemp_all\n",
    "unemp.min(axis=1)"
   ]
  },
  {
   "cell_type": "code",
   "execution_count": 42,
   "metadata": {},
   "outputs": [
    {
     "data": {
      "text/plain": [
       "state\n",
       "Alabama           5.90\n",
       "Alaska            7.00\n",
       "Arizona           5.80\n",
       "Arkansas          5.50\n",
       "California        6.50\n",
       "Colorado          5.20\n",
       "Connecticut       5.30\n",
       "Delaware          4.50\n",
       "Florida           5.35\n",
       "Georgia           5.30\n",
       "Hawaii            4.10\n",
       "Idaho             5.00\n",
       "Illinois          6.15\n",
       "Indiana           5.30\n",
       "Iowa              4.20\n",
       "Kansas            4.90\n",
       "Kentucky          5.70\n",
       "Louisiana         6.10\n",
       "Maine             4.80\n",
       "Maryland          4.40\n",
       "Massachusetts     5.10\n",
       "Michigan          7.00\n",
       "Minnesota         4.50\n",
       "Mississippi       6.60\n",
       "Missouri          5.50\n",
       "Montana           4.60\n",
       "Nebraska          3.60\n",
       "Nevada            5.65\n",
       "New Hampshire     3.80\n",
       "New Mexico        6.00\n",
       "New York          5.70\n",
       "New jersey        5.40\n",
       "North Carolina    5.90\n",
       "North Dakota      3.20\n",
       "Ohio              5.80\n",
       "Oklahoma          4.60\n",
       "Oregon            6.85\n",
       "Pennsylvania      5.45\n",
       "Rhode island      5.40\n",
       "South Carolina    6.60\n",
       "South Dakota      3.40\n",
       "Tennessee         5.60\n",
       "Texas             5.40\n",
       "Utah              4.20\n",
       "Vermont           3.90\n",
       "Virginia          4.15\n",
       "Washington        6.00\n",
       "West Virginia     5.95\n",
       "Wisconsin         5.00\n",
       "Wyoming           4.10\n",
       "dtype: float64"
      ]
     },
     "execution_count": 42,
     "metadata": {},
     "output_type": "execute_result"
    }
   ],
   "source": [
    "unemp.median()"
   ]
  },
  {
   "cell_type": "code",
   "execution_count": 59,
   "metadata": {},
   "outputs": [
    {
     "name": "stdout",
     "output_type": "stream",
     "text": [
      "Michigan\n",
      "2009-06-01 00:00:00\n"
     ]
    }
   ],
   "source": [
    "unemp_max = unemp.max()\n",
    "max_unemp = unemp_max.idxmax()\n",
    "print(max_unemp)\n",
    "Michigan = unemp[max_unemp]\n",
    "print(Michigan.idxmax())"
   ]
  },
  {
   "cell_type": "code",
   "execution_count": 66,
   "metadata": {},
   "outputs": [
    {
     "name": "stdout",
     "output_type": "stream",
     "text": [
      "state\n",
      "Alabama            4.548286\n",
      "Alaska             0.257506\n",
      "Arizona            4.179021\n",
      "Arkansas           1.957209\n",
      "California         6.039162\n",
      "Colorado           3.449818\n",
      "Connecticut        3.674742\n",
      "Delaware           2.779145\n",
      "Florida            5.780556\n",
      "Georgia            5.011162\n",
      "Hawaii             2.265971\n",
      "Idaho              3.397612\n",
      "Illinois           3.846785\n",
      "Indiana            4.685977\n",
      "Iowa               0.942789\n",
      "Kansas             1.076341\n",
      "Kentucky           3.402510\n",
      "Louisiana          1.469891\n",
      "Maine              2.558667\n",
      "Maryland           1.930448\n",
      "Massachusetts      2.291571\n",
      "Michigan           6.817340\n",
      "Minnesota          1.676511\n",
      "Mississippi        2.724155\n",
      "Missouri           2.913183\n",
      "Montana            1.253705\n",
      "Nebraska           0.340393\n",
      "Nevada            10.002977\n",
      "New Hampshire      1.170149\n",
      "New Mexico         1.538129\n",
      "New York           2.293530\n",
      "New jersey         3.987372\n",
      "North Carolina     4.847969\n",
      "North Dakota       0.174066\n",
      "Ohio               3.296091\n",
      "Oklahoma           0.938862\n",
      "Oregon             4.056062\n",
      "Pennsylvania       1.879314\n",
      "Rhode island       6.497766\n",
      "South Carolina     4.791610\n",
      "South Dakota       0.530046\n",
      "Tennessee          3.819410\n",
      "Texas              1.663234\n",
      "Utah               2.324309\n",
      "Vermont            1.050016\n",
      "Virginia           1.940358\n",
      "Washington         2.704584\n",
      "West Virginia      1.563783\n",
      "Wisconsin          2.502692\n",
      "Wyoming            1.144320\n",
      "dtype: float64\n"
     ]
    },
    {
     "data": {
      "text/plain": [
       "10.002976744186048"
      ]
     },
     "execution_count": 66,
     "metadata": {},
     "output_type": "execute_result"
    }
   ],
   "source": [
    "var = unemp.var()\n",
    "print(var)\n",
    "\n",
    "def high_low(x):\n",
    "    if x > 4:\n",
    "        return \"High\"\n",
    "    else:\n",
    "        return \"Low\"\n",
    "\n",
    "var.apply(high_low)\n",
    "worst_state = var.idxmax()\n",
    "var[worst_state]"
   ]
  },
  {
   "cell_type": "code",
   "execution_count": 96,
   "metadata": {},
   "outputs": [
    {
     "data": {
      "text/plain": [
       "<matplotlib.axes._subplots.AxesSubplot at 0x7fc48fbb1750>"
      ]
     },
     "execution_count": 96,
     "metadata": {},
     "output_type": "execute_result"
    },
    {
     "data": {
      "image/png": "[encoded data removed]",
      "text/plain": [
       "<Figure size 576x864 with 1 Axes>"
      ]
     },
     "metadata": {
      "needs_background": "light"
     },
     "output_type": "display_data"
    }
   ],
   "source": [
    "def categories(x):\n",
    "    if x > 6.5:\n",
    "        return \"High\"\n",
    "    elif 4.5 < x < 6.5:\n",
    "        return \"Medium\"\n",
    "    else:\n",
    "        return \"Low\"\n",
    "\n",
    "unemp_bins = unemp.applymap(categories)\n",
    "\n",
    "def counts(x):\n",
    "    low = 0\n",
    "    medium = 0\n",
    "    high = 0\n",
    "    for i in x:\n",
    "        if i == \"High\":\n",
    "            high += 1\n",
    "        elif i == \"Medium\":\n",
    "            medium += 1\n",
    "        else:\n",
    "            low += 1\n",
    "    return [low,medium,high]\n",
    "states = list(unemp_bins.columns)\n",
    "\n",
    "unemp_categories = unemp_bins.agg(counts)\n",
    "Data = pd.DataFrame((i for i in unemp_categories), index = states)\n",
    "Data.rename(columns = {0:'Low',1:'Medium',2:'High'})\n",
    "Data.plot.barh(figsize = (8,12))"
   ]
  },
  {
   "cell_type": "code",
   "execution_count": 124,
   "metadata": {},
   "outputs": [
    {
     "name": "stdout",
     "output_type": "stream",
     "text": [
      "2009-07-01 00:00:00\n",
      "46\n",
      "2004-08-01 00:00:00\n",
      "35\n",
      "2000-08-01 00:00:00\n",
      "40\n"
     ]
    }
   ],
   "source": [
    "unemp_bins\n",
    "unemp_dates = unemp_bins.agg(counts, axis = 1)\n",
    "unemp_dates\n",
    "time = list(unemp_bins.index)\n",
    "Datum = pd.DataFrame((i for i in unemp_dates), index = time )\n",
    "Datum.rename(columns = {0:'Low',1:'Medium',2:'High'}, inplace = True)\n",
    "\n",
    "print(Datum['High'].idxmax())\n",
    "print(Datum['High'].max())\n",
    "print(Datum['Medium'].idxmax())\n",
    "print(Datum['Medium'].max())\n",
    "print(Datum['Low'].idxmax())\n",
    "print(Datum['Low'].max())"
   ]
  },
  {
   "cell_type": "code",
   "execution_count": 155,
   "metadata": {},
   "outputs": [
    {
     "name": "stdout",
     "output_type": "stream",
     "text": [
      "           Categories  Rate\n",
      "Date                       \n",
      "2000-01-01     Medium   4.7\n",
      "2000-02-01     Medium   4.6\n",
      "2000-03-01        Low   4.5\n",
      "2000-04-01        Low   4.4\n",
      "2000-05-01        Low   4.3\n",
      "...               ...   ...\n",
      "2017-08-01        Low   2.2\n",
      "2017-09-01        Low   2.2\n",
      "2017-10-01        Low   2.1\n",
      "2017-11-01        Low   2.1\n",
      "2017-12-01        Low   2.1\n",
      "\n",
      "[216 rows x 2 columns]\n"
     ]
    },
    {
     "data": {
      "text/html": [
       "<div>\n",
       "<style scoped>\n",
       "    .dataframe tbody tr th:only-of-type {\n",
       "        vertical-align: middle;\n",
       "    }\n",
       "\n",
       "    .dataframe tbody tr th {\n",
       "        vertical-align: top;\n",
       "    }\n",
       "\n",
       "    .dataframe thead th {\n",
       "        text-align: right;\n",
       "    }\n",
       "</style>\n",
       "<table border=\"1\" class=\"dataframe\">\n",
       "  <thead>\n",
       "    <tr style=\"text-align: right;\">\n",
       "      <th></th>\n",
       "      <th>Rate</th>\n",
       "    </tr>\n",
       "    <tr>\n",
       "      <th>Categories</th>\n",
       "      <th></th>\n",
       "    </tr>\n",
       "  </thead>\n",
       "  <tbody>\n",
       "    <tr>\n",
       "      <th>High</th>\n",
       "      <td>6.950000</td>\n",
       "    </tr>\n",
       "    <tr>\n",
       "      <th>Low</th>\n",
       "      <td>3.392086</td>\n",
       "    </tr>\n",
       "    <tr>\n",
       "      <th>Medium</th>\n",
       "      <td>5.158974</td>\n",
       "    </tr>\n",
       "  </tbody>\n",
       "</table>\n",
       "</div>"
      ],
      "text/plain": [
       "                Rate\n",
       "Categories          \n",
       "High        6.950000\n",
       "Low         3.392086\n",
       "Medium      5.158974"
      ]
     },
     "execution_count": 155,
     "metadata": {},
     "output_type": "execute_result"
    }
   ],
   "source": [
    "bins = unemp_bins['Hawaii']\n",
    "Hawaii = unemp['Hawaii']\n",
    "Hawaiians = pd.concat([bins,Hawaii], axis =1)\n",
    "Hawaiians.columns = ['Categories','Rate']\n",
    "print(Hawaiians)\n",
    "\n",
    "Hawaiians.groupby('Categories').mean()"
   ]
  },
  {
   "cell_type": "code",
   "execution_count": null,
   "metadata": {},
   "outputs": [],
   "source": []
  },
  {
   "cell_type": "code",
   "execution_count": null,
   "metadata": {},
   "outputs": [],
   "source": []
  },
  {
   "cell_type": "code",
   "execution_count": null,
   "metadata": {},
   "outputs": [],
   "source": []
  },
  {
   "cell_type": "code",
   "execution_count": null,
   "metadata": {},
   "outputs": [],
   "source": []
  },
  {
   "cell_type": "code",
   "execution_count": null,
   "metadata": {},
   "outputs": [],
   "source": []
  },
  {
   "cell_type": "code",
   "execution_count": null,
   "metadata": {},
   "outputs": [],
   "source": []
  },
  {
   "cell_type": "code",
   "execution_count": null,
   "metadata": {},
   "outputs": [],
   "source": []
  }
 ],
 "metadata": {
  "kernelspec": {
   "display_name": "Python 3",
   "language": "python",
   "name": "python3"
  },
  "language_info": {
   "codemirror_mode": {
    "name": "ipython",
    "version": 3
   },
   "file_extension": ".py",
   "mimetype": "text/x-python",
   "name": "python",
   "nbconvert_exporter": "python",
   "pygments_lexer": "ipython3",
   "version": "3.7.6"
  }
 },
 "nbformat": 4,
 "nbformat_minor": 4
}
