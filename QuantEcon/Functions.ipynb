{
 "cells": [
  {
   "cell_type": "code",
   "execution_count": 2,
   "metadata": {},
   "outputs": [],
   "source": [
    "import numpy as np\n",
    "import matplotlib.pyplot as plt\n",
    "%matplotlib inline"
   ]
  },
  {
   "cell_type": "code",
   "execution_count": 18,
   "metadata": {},
   "outputs": [
    {
     "name": "stdout",
     "output_type": "stream",
     "text": [
      "3628800\n"
     ]
    }
   ],
   "source": [
    "def factorial(n):\n",
    "    fact = 0\n",
    "    for i in range(n):\n",
    "        if i == 0:\n",
    "            fact = i + 1\n",
    "        else:\n",
    "            fact = fact * (i+1)\n",
    "    return fact\n",
    "\n",
    "print(factorial(10))"
   ]
  },
  {
   "cell_type": "code",
   "execution_count": 134,
   "metadata": {},
   "outputs": [
    {
     "name": "stdout",
     "output_type": "stream",
     "text": [
      "0\n"
     ]
    }
   ],
   "source": [
    "from numpy.random import uniform\n",
    "def binomial_rv(n,p):\n",
    "    sux = 0\n",
    "    for i in range(n):\n",
    "        x = uniform(0)\n",
    "        if x < p:\n",
    "            sux += 1\n",
    "    return sux\n",
    "            \n",
    "print(binomial_rv(1,0.5))\n",
    "    "
   ]
  },
  {
   "cell_type": "code",
   "execution_count": 135,
   "metadata": {},
   "outputs": [
    {
     "name": "stdout",
     "output_type": "stream",
     "text": [
      "5\n"
     ]
    }
   ],
   "source": [
    "from numpy.random import uniform\n",
    "\n",
    "def consecutive(x,s):\n",
    "    cons = 0\n",
    "    for ip in range(len(x)-1):\n",
    "        if x[ip] == x[ip+1]:\n",
    "            cons += 1\n",
    "        else:\n",
    "            cons = 0\n",
    "        if cons == s:\n",
    "            return True\n",
    "\n",
    "def cash_game(k):\n",
    "    flips = []\n",
    "    winnings = 0\n",
    "    for i in range(10):\n",
    "        x = binomial_rv(1,0.5)\n",
    "        flips.append(x)\n",
    "    success = consecutive(flips,k)\n",
    "    if success == True:\n",
    "        winnings += 1\n",
    "    return winnings\n",
    "sum_money = 0\n",
    "for i in range(10):\n",
    "    sum_money += cash_game(3)\n",
    "print(sum_money)"
   ]
  },
  {
   "cell_type": "code",
   "execution_count": 136,
   "metadata": {},
   "outputs": [
    {
     "name": "stdout",
     "output_type": "stream",
     "text": [
      "9\n"
     ]
    }
   ],
   "source": [
    "from numpy.random import uniform\n",
    "\n",
    "def consecutive(x,s):\n",
    "    cons = 0\n",
    "    for ip in range(len(x)-1):\n",
    "        if x[ip] == x[ip+1]:\n",
    "            cons += 1\n",
    "        else:\n",
    "            cons = 0\n",
    "        if cons == s:\n",
    "            return True\n",
    "def counting(x,s):\n",
    "    cons = 0\n",
    "    for xi in range(len(x)-1):\n",
    "        if x[xi] == 1:\n",
    "            cons += 1\n",
    "    if cons >= s:\n",
    "        return True\n",
    "\n",
    "def cash_game(k):\n",
    "    flips = []\n",
    "    winnings = 0\n",
    "    for i in range(10):\n",
    "        x = binomial_rv(1,0.5)\n",
    "        flips.append(x)\n",
    "    success = counting(flips,k)\n",
    "    if success == True:\n",
    "        winnings += 1\n",
    "    return winnings\n",
    "sum_money = 0\n",
    "for i in range(10):\n",
    "    sum_money += cash_game(3)\n",
    "print(sum_money)"
   ]
  },
  {
   "cell_type": "code",
   "execution_count": null,
   "metadata": {},
   "outputs": [],
   "source": []
  },
  {
   "cell_type": "code",
   "execution_count": null,
   "metadata": {},
   "outputs": [],
   "source": []
  },
  {
   "cell_type": "code",
   "execution_count": null,
   "metadata": {},
   "outputs": [],
   "source": []
  },
  {
   "cell_type": "code",
   "execution_count": null,
   "metadata": {},
   "outputs": [],
   "source": []
  },
  {
   "cell_type": "code",
   "execution_count": null,
   "metadata": {},
   "outputs": [],
   "source": []
  },
  {
   "cell_type": "code",
   "execution_count": null,
   "metadata": {},
   "outputs": [],
   "source": []
  },
  {
   "cell_type": "code",
   "execution_count": null,
   "metadata": {},
   "outputs": [],
   "source": []
  },
  {
   "cell_type": "code",
   "execution_count": null,
   "metadata": {},
   "outputs": [],
   "source": []
  },
  {
   "cell_type": "code",
   "execution_count": null,
   "metadata": {},
   "outputs": [],
   "source": []
  },
  {
   "cell_type": "code",
   "execution_count": null,
   "metadata": {},
   "outputs": [],
   "source": []
  },
  {
   "cell_type": "code",
   "execution_count": null,
   "metadata": {},
   "outputs": [],
   "source": []
  },
  {
   "cell_type": "code",
   "execution_count": null,
   "metadata": {},
   "outputs": [],
   "source": []
  },
  {
   "cell_type": "code",
   "execution_count": null,
   "metadata": {},
   "outputs": [],
   "source": []
  },
  {
   "cell_type": "code",
   "execution_count": null,
   "metadata": {},
   "outputs": [],
   "source": []
  },
  {
   "cell_type": "code",
   "execution_count": null,
   "metadata": {},
   "outputs": [],
   "source": []
  },
  {
   "cell_type": "code",
   "execution_count": null,
   "metadata": {},
   "outputs": [],
   "source": []
  },
  {
   "cell_type": "code",
   "execution_count": null,
   "metadata": {},
   "outputs": [],
   "source": []
  },
  {
   "cell_type": "code",
   "execution_count": null,
   "metadata": {},
   "outputs": [],
   "source": []
  }
 ],
 "metadata": {
  "kernelspec": {
   "display_name": "Python 3",
   "language": "python",
   "name": "python3"
  },
  "language_info": {
   "codemirror_mode": {
    "name": "ipython",
    "version": 3
   },
   "file_extension": ".py",
   "mimetype": "text/x-python",
   "name": "python",
   "nbconvert_exporter": "python",
   "pygments_lexer": "ipython3",
   "version": "3.7.6"
  }
 },
 "nbformat": 4,
 "nbformat_minor": 4
}
