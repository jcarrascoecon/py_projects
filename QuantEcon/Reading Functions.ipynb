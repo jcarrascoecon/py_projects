{
 "cells": [
  {
   "cell_type": "code",
   "execution_count": 16,
   "metadata": {},
   "outputs": [
    {
     "name": "stdout",
     "output_type": "stream",
     "text": [
      "Shape (15740, 11)\n",
      "['season', 'neutral', 'playoff', 'team1', 'team2', 'elo1', 'elo2', 'elo_prob1', 'score1', 'score2', 'result1']\n"
     ]
    },
    {
     "data": {
      "text/plain": [
       "True"
      ]
     },
     "execution_count": 16,
     "metadata": {},
     "output_type": "execute_result"
    }
   ],
   "source": [
    "import pandas as pd\n",
    "\n",
    "url = \"https://raw.githubusercontent.com/fivethirtyeight/nfl-elo-game/\"\n",
    "url = url + \"3488b7d0b46c5f6583679bc40fb3a42d729abd39/data/nfl_games.csv\"\n",
    "\n",
    "nfl = pd.read_csv(url, index_col = 0)\n",
    "nfl.head()\n",
    "print(\"Shape\",nfl.shape)\n",
    "columns = list(nfl.columns)\n",
    "print(columns)\n",
    "\n",
    "nfl.to_excel(\"NFL.xlsx\", \"NFL History\")\n",
    "import os\n",
    "os.path.isfile(\"NFL.xlsx\")"
   ]
  },
  {
   "cell_type": "code",
   "execution_count": 24,
   "metadata": {},
   "outputs": [
    {
     "data": {
      "text/plain": [
       "season         1981.248030\n",
       "neutral           0.004765\n",
       "playoff           0.034562\n",
       "elo1           1502.150586\n",
       "elo2           1498.598474\n",
       "elo_prob1         0.584817\n",
       "score1           21.470076\n",
       "score2           18.483609\n",
       "result1           0.580623\n",
       "Total Score      39.953685\n",
       "dtype: float64"
      ]
     },
     "execution_count": 24,
     "metadata": {},
     "output_type": "execute_result"
    }
   ],
   "source": [
    "nfl.loc[:,('score1','score2')]\n",
    "nfl[\"Total Score\"] = nfl['score1'] + nfl['score2']\n",
    "nfl.head()\n",
    "nfl.mean()"
   ]
  },
  {
   "cell_type": "code",
   "execution_count": 34,
   "metadata": {},
   "outputs": [
    {
     "data": {
      "text/plain": [
       "score1         24.386029\n",
       "score2         18.318015\n",
       "total score    42.704044\n",
       "dtype: float64"
      ]
     },
     "execution_count": 34,
     "metadata": {},
     "output_type": "execute_result"
    }
   ],
   "source": [
    "nfl.head()\n",
    "playoff_scores = nfl.loc[nfl['playoff'] == 1,('score1','score2')]\n",
    "playoff_scores[\"total score\"] = playoff_scores['score1'] + playoff_scores['score2']\n",
    "playoff_scores.mean()"
   ]
  },
  {
   "cell_type": "code",
   "execution_count": 46,
   "metadata": {},
   "outputs": [
    {
     "name": "stdout",
     "output_type": "stream",
     "text": [
      "20.333431681091007\n",
      "21.975806451612904\n",
      "18.691056910569106\n"
     ]
    }
   ],
   "source": [
    "team1_HOU = nfl.loc[nfl['team1'] == \"HOU\",:]\n",
    "team2_HOU = nfl.loc[nfl['team2']== 'HOU',:]\n",
    "team1_HOU_mean = team1_HOU['score1'].mean()\n",
    "team2_HOU_mean = team2_HOU['score2'].mean()\n",
    "print((team1_HOU_mean + team2_HOU_mean)/2)\n",
    "print(team1_HOU_mean)\n",
    "print(team2_HOU_mean)"
   ]
  },
  {
   "cell_type": "code",
   "execution_count": 53,
   "metadata": {},
   "outputs": [
    {
     "name": "stdout",
     "output_type": "stream",
     "text": [
      "0.3635959339263024\n"
     ]
    }
   ],
   "source": [
    "nfl['elo_comp'] = (nfl['elo1'] > nfl['elo2']).astype(int)\n",
    "nfl['upset'] = (nfl['elo_comp'] == nfl['result1']).astype(int)\n",
    "upset_ratio = 1 - nfl['upset'].mean()\n",
    "print(upset_ratio)"
   ]
  },
  {
   "cell_type": "code",
   "execution_count": null,
   "metadata": {},
   "outputs": [],
   "source": []
  },
  {
   "cell_type": "code",
   "execution_count": null,
   "metadata": {},
   "outputs": [],
   "source": []
  }
 ],
 "metadata": {
  "kernelspec": {
   "display_name": "Python 3",
   "language": "python",
   "name": "python3"
  },
  "language_info": {
   "codemirror_mode": {
    "name": "ipython",
    "version": 3
   },
   "file_extension": ".py",
   "mimetype": "text/x-python",
   "name": "python",
   "nbconvert_exporter": "python",
   "pygments_lexer": "ipython3",
   "version": "3.7.6"
  }
 },
 "nbformat": 4,
 "nbformat_minor": 4
}
