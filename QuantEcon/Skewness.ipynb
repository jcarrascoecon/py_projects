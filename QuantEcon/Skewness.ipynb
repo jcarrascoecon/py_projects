{
 "cells": [
  {
   "cell_type": "code",
   "execution_count": 25,
   "metadata": {},
   "outputs": [
    {
     "name": "stdout",
     "output_type": "stream",
     "text": [
      "[0, 1, 2, 3, 4, 5, 6, 7, 8, 9, 10, 11, 12, 13, 14, 15, 16, 17, 18, 19, 20, 21, 22, 23, 24, 25, 26, 27, 28, 29, 30, 31, 32, 33, 34, 35, 36, 37, 38, 39, 40, 41, 42, 43, 44, 45, 46, 47, 48, 49, 50, 51, 52, 53, 54, 55, 56, 57, 58, 59, 60, 61, 62, 63, 64, 65, 66, 67, 68, 69, 70, 71, 72, 73, 74, 75, 76, 77, 78, 79, 80, 81, 82, 83, 84, 85, 86, 87, 88, 89, 90, 91, 92, 93, 94, 95, 96, 97, 98, 99, 50, 51, 52, 53, 54, 55, 56, 57, 58, 59, 60, 61, 62, 63, 64, 65, 66, 67, 68, 69, 70, 71, 72, 73, 74, 75, 76, 77, 78, 79, 80, 81, 82, 83, 84, 85, 86, 87, 88, 89, 90, 91, 92, 93, 94, 95, 96, 97, 98, 99, 51, 52, 53, 54, 55, 56, 57, 58, 59, 60, 61, 62, 63, 64, 65, 66, 67, 68, 69]\n",
      "0.11834319526627218\n",
      "0.005917159763313609\n",
      "0.7633136094674556\n",
      "0.011834319526627219\n",
      "0.28994082840236685\n",
      "58.07692307692308\n"
     ]
    },
    {
     "data": {
      "image/png": "[encoded data removed]",
      "text/plain": [
       "<Figure size 432x288 with 1 Axes>"
      ]
     },
     "metadata": {
      "needs_background": "light"
     },
     "output_type": "display_data"
    }
   ],
   "source": [
    "import numpy as np\n",
    "import matplotlib.pyplot as plt\n",
    "from numpy import random\n",
    "\n",
    "def bigs(x):\n",
    "    for i in range(100):\n",
    "        if i >= 50:\n",
    "            x.append(i)\n",
    "    return x\n",
    "def means(x):\n",
    "    for i in range(100):\n",
    "        if 50 < i < 70:\n",
    "            x.append(i)\n",
    "    return x\n",
    "\n",
    "grades1 = [x for x in range(100)]\n",
    "grades2 = []\n",
    "grades2 = bigs(grades2)\n",
    "grades3 = []\n",
    "grades3 = means(grades3)\n",
    "grades = grades1\n",
    "for i in grades2:\n",
    "    grades.append(i)\n",
    "for i in grades3:\n",
    "    grades.append(i)\n",
    "\n",
    "\n",
    "print(grades)\n",
    "n, bins, patches = plt.hist(x=grades, bins='auto', color='#0504aa',\n",
    "                            alpha=0.7, rwidth=0.85)\n",
    "\n",
    "def ecdf(x,c):\n",
    "    count = 0\n",
    "    for i in x:\n",
    "        if i < c:\n",
    "            count += 1\n",
    "    return count/len(x)\n",
    "\n",
    "def epdf(x,c):\n",
    "    count = 0\n",
    "    for i in x:\n",
    "        if i == c:\n",
    "            count += 1\n",
    "    return count/len(x)\n",
    "\n",
    "print(ecdf(grades,20))\n",
    "print(epdf(grades,20))\n",
    "print(ecdf(grades,80))\n",
    "print(epdf(grades,80))\n",
    "print(ecdf(grades,49))\n",
    "print(np.mean(grades))"
   ]
  },
  {
   "cell_type": "code",
   "execution_count": null,
   "metadata": {},
   "outputs": [],
   "source": []
  },
  {
   "cell_type": "code",
   "execution_count": null,
   "metadata": {},
   "outputs": [],
   "source": []
  },
  {
   "cell_type": "code",
   "execution_count": null,
   "metadata": {},
   "outputs": [],
   "source": []
  },
  {
   "cell_type": "code",
   "execution_count": null,
   "metadata": {},
   "outputs": [],
   "source": []
  }
 ],
 "metadata": {
  "kernelspec": {
   "display_name": "Python 3",
   "language": "python",
   "name": "python3"
  },
  "language_info": {
   "codemirror_mode": {
    "name": "ipython",
    "version": 3
   },
   "file_extension": ".py",
   "mimetype": "text/x-python",
   "name": "python",
   "nbconvert_exporter": "python",
   "pygments_lexer": "ipython3",
   "version": "3.7.6"
  }
 },
 "nbformat": 4,
 "nbformat_minor": 4
}
